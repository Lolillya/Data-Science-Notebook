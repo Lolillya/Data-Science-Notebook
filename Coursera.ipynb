{
 "cells": [
  {
   "cell_type": "markdown",
   "id": "574a39df-5ff8-425f-bd88-6bf78ff10712",
   "metadata": {},
   "source": [
    "# Data Science Tools and Ecosystem\n"
   ]
  },
  {
   "cell_type": "markdown",
   "id": "89e00cf8-dc5a-4b06-a05c-addd291146c2",
   "metadata": {},
   "source": [
    "In this notebook, Data Science Tools and Ecosystem are summarized."
   ]
  },
  {
   "cell_type": "markdown",
   "id": "8ffe58a0-a04a-4019-9eb5-703bb2dda185",
   "metadata": {},
   "source": [
    "Some of the popular languages that Data Scientists use are:\n",
    "1. R\n",
    "2. Python\n",
    "3. SQL"
   ]
  },
  {
   "cell_type": "markdown",
   "id": "a007471b-3ebf-4e45-b468-b85ad0e7823e",
   "metadata": {},
   "source": [
    "| Data Science Tools          |\n",
    "|-----------------------------|\n",
    "| Jupyter Notebook            |\n",
    "| RStudio                     |\n",
    "| Apache Zeppelin             |\n"
   ]
  },
  {
   "cell_type": "markdown",
   "id": "79feb04d-b608-4af5-a43e-2835fcf3cc71",
   "metadata": {},
   "source": [
    "### Below are a few examples of evaluating arithmetic expressions in Python."
   ]
  },
  {
   "cell_type": "code",
   "execution_count": 1,
   "id": "c513f3c3-2735-4822-885d-ccb7620f657e",
   "metadata": {},
   "outputs": [
    {
     "data": {
      "text/plain": [
       "17"
      ]
     },
     "execution_count": 1,
     "metadata": {},
     "output_type": "execute_result"
    }
   ],
   "source": [
    "# This is a simple arithmetic expression to multiply then add integers\n",
    "(3 * 4) + 5\n"
   ]
  },
  {
   "cell_type": "code",
   "execution_count": 2,
   "id": "16b8f2fa-47a5-49d7-a7e4-9d7ecb573ecf",
   "metadata": {},
   "outputs": [
    {
     "data": {
      "text/plain": [
       "3.3333333333333335"
      ]
     },
     "execution_count": 2,
     "metadata": {},
     "output_type": "execute_result"
    }
   ],
   "source": [
    "# This will convert 200 minutes to hours by dividing by 60\n",
    "200 / 60\n"
   ]
  },
  {
   "cell_type": "markdown",
   "id": "2e99bf11-7caf-429b-84a1-84de5aeeddb8",
   "metadata": {},
   "source": [
    "**Objectives:**\n",
    "\n",
    "- List popular languages for Data Science\n",
    "- Introduce commonly used Data Science tools\n",
    "- Demonstrate basic arithmetic operations in Python\n",
    "- Show how to convert minutes to hours\n",
    "- Create tables and markdown cells in Jupyter Notebook\n"
   ]
  },
  {
   "cell_type": "markdown",
   "id": "0c0a864a-7ad2-4669-bd3e-0a38c837c410",
   "metadata": {},
   "source": [
    "## Author\n",
    "Jerald Dagaang"
   ]
  },
  {
   "cell_type": "code",
   "execution_count": null,
   "id": "0be04533-0290-4d63-b0eb-bc6900667d10",
   "metadata": {},
   "outputs": [],
   "source": []
  }
 ],
 "metadata": {
  "kernelspec": {
   "display_name": "Python 3 (ipykernel)",
   "language": "python",
   "name": "python3"
  },
  "language_info": {
   "codemirror_mode": {
    "name": "ipython",
    "version": 3
   },
   "file_extension": ".py",
   "mimetype": "text/x-python",
   "name": "python",
   "nbconvert_exporter": "python",
   "pygments_lexer": "ipython3",
   "version": "3.11.9"
  }
 },
 "nbformat": 4,
 "nbformat_minor": 5
}
